{
 "cells": [
  {
   "cell_type": "code",
   "execution_count": 12,
   "id": "d1ea31a3-ac0d-47cb-846f-d8aa6655d7ee",
   "metadata": {},
   "outputs": [],
   "source": [
    "#import libraries\n",
    "\n",
    "from bs4 import BeautifulSoup\n",
    "import requests\n",
    "import csv"
   ]
  },
  {
   "cell_type": "code",
   "execution_count": 26,
   "id": "d1306ec6-cfec-461e-898d-0470178fffba",
   "metadata": {},
   "outputs": [],
   "source": [
    "url = \"http://books.toscrape.com/\"\n",
    "response = requests.get(url)\n",
    "soup = BeautifulSoup(response.text, 'html.parser')\n",
    "#parse the page with BeautifulSoup"
   ]
  },
  {
   "cell_type": "code",
   "execution_count": 30,
   "id": "59b16dda-40fd-4668-b373-57822a33ca35",
   "metadata": {},
   "outputs": [],
   "source": [
    "#Find Book Containers\n",
    "\n",
    "\n",
    "books = soup.find_all('article', class_='product_pod')\n"
   ]
  },
  {
   "cell_type": "code",
   "execution_count": 36,
   "id": "85b629ac-e03c-4bd9-a24d-1799de61f920",
   "metadata": {},
   "outputs": [
    {
     "name": "stdout",
     "output_type": "stream",
     "text": [
      "Data saved to 'books.csv'\n"
     ]
    }
   ],
   "source": [
    "# Open a CSV file to save the data\n",
    "with open('books.csv', mode = 'w', newline = '') as file:\n",
    "    writer = csv.writer(file)\n",
    "    writer.writerow([\"Booke Title\",\"Price\"]) # Write header row\n",
    "    # Loop through each book and extract the title and price\n",
    "    for book in books:\n",
    "        title = book.find('h3').find('a')['title'] # title\n",
    "        price = book.find('p', class_='price_color').text.strip() # price\n",
    "        writer.writerow([title, price])# write each book title and prive to the csv file\n",
    "print(\"Data saved to 'books.csv'\")"
   ]
  },
  {
   "cell_type": "code",
   "execution_count": null,
   "id": "c2c8f7b7-2660-4138-8ecc-e4a0c360dc61",
   "metadata": {},
   "outputs": [],
   "source": []
  }
 ],
 "metadata": {
  "kernelspec": {
   "display_name": "Python [conda env:base] *",
   "language": "python",
   "name": "conda-base-py"
  },
  "language_info": {
   "codemirror_mode": {
    "name": "ipython",
    "version": 3
   },
   "file_extension": ".py",
   "mimetype": "text/x-python",
   "name": "python",
   "nbconvert_exporter": "python",
   "pygments_lexer": "ipython3",
   "version": "3.12.7"
  }
 },
 "nbformat": 4,
 "nbformat_minor": 5
}
